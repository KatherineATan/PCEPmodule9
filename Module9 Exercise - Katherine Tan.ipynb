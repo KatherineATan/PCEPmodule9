{
 "cells": [
  {
   "cell_type": "markdown",
   "metadata": {},
   "source": [
    "### Exercise 1. \n",
    "Create a dictionary named pairs with key value pairs of:\n",
    "    - 'hello' and 'fire', \n",
    "    - 3 and 'seven', \n",
    "    - 'strong' and 45. \n",
    "\n",
    "Then, print out the dictionary."
   ]
  },
  {
   "cell_type": "code",
   "execution_count": 1,
   "metadata": {},
   "outputs": [
    {
     "name": "stdout",
     "output_type": "stream",
     "text": [
      "{'hello': 'fire', 3: 'seven', 'strong': 45}\n"
     ]
    }
   ],
   "source": [
    "pairs = {\"hello\" : \"fire\", 3 : \"seven\", \"strong\" : 45}\n",
    "print(pairs)"
   ]
  },
  {
   "cell_type": "markdown",
   "metadata": {},
   "source": [
    "### Exercise 2. \n",
    "Add 'welcome' and 56 pair into <b><i>pairs</i></b> dictionary from exercise 1. Then, print out the dictionary. "
   ]
  },
  {
   "cell_type": "code",
   "execution_count": 2,
   "metadata": {},
   "outputs": [
    {
     "name": "stdout",
     "output_type": "stream",
     "text": [
      "{'hello': 'fire', 3: 'seven', 'strong': 45, 'welcome': 56}\n"
     ]
    }
   ],
   "source": [
    "pairs[\"welcome\"] = 56\n",
    "print(pairs)"
   ]
  },
  {
   "cell_type": "markdown",
   "metadata": {},
   "source": [
    "### Exercise 3. \n",
    "Delete one item from <b><i>pairs</i></b> dictionary. Then, print deleted item and the dictionary."
   ]
  },
  {
   "cell_type": "code",
   "execution_count": 3,
   "metadata": {},
   "outputs": [
    {
     "name": "stdout",
     "output_type": "stream",
     "text": [
      "45\n"
     ]
    }
   ],
   "source": [
    "popped = pairs.pop(\"strong\")\n",
    "print(popped)"
   ]
  },
  {
   "cell_type": "markdown",
   "metadata": {},
   "source": [
    "### Exercise 4. \n",
    "Print the value of an item where key is 3 in <b><i>pairs</i></b> dicitonary"
   ]
  },
  {
   "cell_type": "code",
   "execution_count": 4,
   "metadata": {},
   "outputs": [
    {
     "name": "stdout",
     "output_type": "stream",
     "text": [
      "seven\n"
     ]
    }
   ],
   "source": [
    "print(pairs[3])"
   ]
  },
  {
   "cell_type": "markdown",
   "metadata": {},
   "source": [
    "### Exercise 5. \n",
    "Try to find out if the key called 'hello' exist in <b><i>pairs</i></b> dictionary. Print 'key is found' message if the key exists otherwise print 'key is not there'."
   ]
  },
  {
   "cell_type": "code",
   "execution_count": 5,
   "metadata": {},
   "outputs": [
    {
     "name": "stdout",
     "output_type": "stream",
     "text": [
      "key is found\n"
     ]
    }
   ],
   "source": [
    "if \"hello\" in pairs :\n",
    "    print(\"key is found\")\n",
    "else :    \n",
    "    print(\"key is not there\")\n"
   ]
  },
  {
   "cell_type": "markdown",
   "metadata": {},
   "source": [
    "### Exercise 6. \n",
    "Create a Test Scores program that gets the name of students and test score from a user. Then, generate a list of students who passed and a list of students who failed where passing test score is 60 or above. "
   ]
  },
  {
   "cell_type": "code",
   "execution_count": null,
   "metadata": {},
   "outputs": [],
   "source": []
  },
  {
   "cell_type": "code",
   "execution_count": 6,
   "metadata": {},
   "outputs": [
    {
     "name": "stdout",
     "output_type": "stream",
     "text": [
      "What is the name of the student? pass\n",
      "What is their test score? 60\n",
      "Type 'end' if you want to end the program. \n",
      "What is the name of the student? fail\n",
      "What is their test score? 59\n",
      "Type 'end' if you want to end the program. \n",
      "What is the name of the student? bad\n",
      "What is their test score? 0\n",
      "Type 'end' if you want to end the program. \n",
      "What is the name of the student? good\n",
      "What is their test score? 100\n",
      "Type 'end' if you want to end the program. end\n",
      "students that passed and their score: {'pass': 60, 'good': 100}\n",
      "students that failed and their score: {'fail': 59, 'bad': 0}\n"
     ]
    }
   ],
   "source": [
    "passed_li = {}\n",
    "failed_li = {}\n",
    "stop = \"\"\n",
    "\n",
    "while stop != \"end\" :\n",
    "    student_name = input(\"What is the name of the student? \")\n",
    "    student_score = int(input(\"What is their test score? \"))\n",
    "    if student_score >= 60 :\n",
    "        passed_li[student_name] = student_score\n",
    "    else :\n",
    "        failed_li[student_name] = student_score\n",
    "    \n",
    "    stop = input(\"Type 'end' if you want to end the program. \")\n",
    "    \n",
    "print(f\"students that passed and their score: {passed_li}\")\n",
    "print(f\"students that failed and their score: {failed_li}\")\n"
   ]
  },
  {
   "cell_type": "markdown",
   "metadata": {},
   "source": [
    "### Exercise 7. \n",
    "\n",
    "Create a Word Counter program that gets a string of text from a user and then counts the number of times a word occrs in the string. \n",
    "\n",
    "The output should look something like this:\n",
    "\n",
    "    The Word Counter Program\n",
    "    \n",
    "    Enter a text string: \n",
    "    Humpty Dumpty sat on a wall, Humpty Dumpty had a great fall. All the king’s horses and all the king’s men couldn’t put Humpty together again.\n",
    "\n",
    "    a : 2\n",
    "    again : 1\n",
    "    all : 2\n",
    "    and : 1\n",
    "    couldn’t : 1\n",
    "    dumpty : 2\n",
    "    fall : 1\n",
    "    great : 1\n",
    "    had : 1\n",
    "    horses : 1\n",
    "    humpty : 3\n",
    "    king’s : 2\n",
    "    men : 1\n",
    "    on : 1\n",
    "    put : 1\n",
    "    sat : 1\n",
    "    the : 2\n",
    "    together : 1\n",
    "    wall : 1\n",
    "\n",
    "    There were total 26 words in the text string   "
   ]
  },
  {
   "cell_type": "code",
   "execution_count": null,
   "metadata": {},
   "outputs": [],
   "source": []
  },
  {
   "cell_type": "code",
   "execution_count": 7,
   "metadata": {},
   "outputs": [
    {
     "name": "stdout",
     "output_type": "stream",
     "text": [
      "Enter a text string: Humpty Dumpty sat on a wall, Humpty Dumpty had a great fall.\n",
      "Humpty : 2\n",
      "Dumpty : 2\n",
      "sat : 1\n",
      "on : 1\n",
      "a : 2\n",
      "wall, : 1\n",
      "had : 1\n",
      "great : 1\n",
      "fall. : 1\n",
      "total: 12\n"
     ]
    }
   ],
   "source": [
    "user_text = input(\"Enter a text string: \")\n",
    "\n",
    "word_list = user_text.split(\" \")\n",
    "\n",
    "word_dict = {}\n",
    "\n",
    "x = 0\n",
    "for word_list[x] in word_list :\n",
    "    if word_list[x] in word_dict :\n",
    "        word_dict[word_list[x]] += 1\n",
    "    else :    \n",
    "        word_dict[word_list[x]] = 1\n",
    "    x += 1\n",
    "\n",
    "the_total = 0\n",
    "for pair in word_dict :\n",
    "    print(f\"{pair} : {word_dict[pair]}\")\n",
    "    the_total += word_dict[pair]\n",
    "\n",
    "print(f\"There were total of {the_total} word in the text string.\")\n"
   ]
  },
  {
   "cell_type": "code",
   "execution_count": null,
   "metadata": {},
   "outputs": [],
   "source": []
  }
 ],
 "metadata": {
  "kernelspec": {
   "display_name": "Python 3",
   "language": "python",
   "name": "python3"
  },
  "language_info": {
   "codemirror_mode": {
    "name": "ipython",
    "version": 3
   },
   "file_extension": ".py",
   "mimetype": "text/x-python",
   "name": "python",
   "nbconvert_exporter": "python",
   "pygments_lexer": "ipython3",
   "version": "3.8.8"
  }
 },
 "nbformat": 4,
 "nbformat_minor": 4
}
